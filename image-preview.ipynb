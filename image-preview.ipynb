{
 "cells": [
  {
   "cell_type": "markdown",
   "metadata": {},
   "source": [
    "# image-preview.ipynb\n",
    "This Jupyter notebook uses napari to preview a subset of images in a a directory when there are too many images to load at one time. There are three steps:\n",
    "1. Run the cell below to import packages and open the napari viewer window\n",
    "2. In a cell below, call `get_imgs()` with the desired parameters and add the images to the napari viewer using `viewer.add_image()`\n",
    "3. Image sequences can be saved as animation with the `save_as_gif()` function. Note: GIFs become very large when they have many frames. To make longer videos (> 50ish images), use software like FFMpeg."
   ]
  },
  {
   "cell_type": "code",
   "execution_count": 1,
   "metadata": {},
   "outputs": [],
   "source": [
    "# Third-party imports\n",
    "import napari\n",
    "import numpy as np\n",
    "# Local imports\n",
    "import helpers\n",
    "\n",
    "# Open napari window\n",
    "viewer = napari.Viewer()"
   ]
  },
  {
   "cell_type": "markdown",
   "metadata": {},
   "source": [
    "Note: You may need to put an \"r\" before the image directory path if the string contains backslashes. Don't forget commas between parameters!"
   ]
  },
  {
   "cell_type": "code",
   "execution_count": 5,
   "metadata": {},
   "outputs": [
    {
     "name": "stdout",
     "output_type": "stream",
     "text": [
      "Loading 10 images...\n",
      "Images loaded:\n",
      "['0: 0', '1: 300', '2: 600', '3: 900', '4: 1200', '5: 1500', '6: 1800', '7: 2100', '8: 2400', '9: 2700']\n"
     ]
    },
    {
     "data": {
      "text/plain": [
       "<Image layer 'imgs [1]' at 0x116dedf8df0>"
      ]
     },
     "execution_count": 5,
     "metadata": {},
     "output_type": "execute_result"
    }
   ],
   "source": [
    "img_dir = r'C:\\Users\\gusb\\Research\\AET_al-ag\\Data\\Radiographs-014Al70_Ag30_Wt_solid_5fps_206keV_150uA'\n",
    "imgs = helpers.get_imgs(\n",
    "    img_dir, \n",
    "    img_start=0,\n",
    "    img_stop=3000,\n",
    "    # img_step=100,\n",
    "    n_imgs=10,\n",
    "    print_nums=True\n",
    ")\n",
    "viewer.add_image(imgs)"
   ]
  },
  {
   "cell_type": "code",
   "execution_count": 60,
   "metadata": {},
   "outputs": [
    {
     "name": "stdout",
     "output_type": "stream",
     "text": [
      "Saving animation...\n",
      "Animation saved: C:\\Users\\gusb\\Research\\AET_al-ag\\Data\\014Al70-0-3000-100.gif\n"
     ]
    }
   ],
   "source": [
    "helpers.save_as_gif(\n",
    "    r'C:\\Users\\gusb\\Research\\AET_al-ag\\Data\\014Al70-0-3000-100.gif',\n",
    "    imgs\n",
    ")"
   ]
  }
 ],
 "metadata": {
  "interpreter": {
   "hash": "2f9fcb20087b7af2829bf0abbacbe7806b917b04bec25a5e9393fe507dcd2d8e"
  },
  "kernelspec": {
   "display_name": "Python 3.9.5 64-bit (system)",
   "language": "python",
   "name": "python3"
  },
  "language_info": {
   "codemirror_mode": {
    "name": "ipython",
    "version": 3
   },
   "file_extension": ".py",
   "mimetype": "text/x-python",
   "name": "python",
   "nbconvert_exporter": "python",
   "pygments_lexer": "ipython3",
   "version": "3.9.5"
  },
  "orig_nbformat": 4
 },
 "nbformat": 4,
 "nbformat_minor": 2
}
