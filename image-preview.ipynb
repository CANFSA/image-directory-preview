{
 "cells": [
  {
   "cell_type": "markdown",
   "metadata": {},
   "source": [
    "# image-preview.ipynb\n",
    "This Jupyter notebook uses napari to preview a subset of images in a a directory when there are too many images to load at one time. There are three steps:\n",
    "1. Run the cell below to import packages and open the napari viewer window\n",
    "2. In a cell below, call `get_imgs()` with the desired parameters and add the images to the napari viewer using `viewer.add_image()`\n",
    "3. Image sequences can be saved as animation with the `save_as_gif()` function. Note: GIFs become very large when they have many frames. To make longer videos (> 50ish images), use software like FFMpeg."
   ]
  },
  {
   "cell_type": "code",
   "execution_count": 1,
   "metadata": {},
   "outputs": [],
   "source": [
    "# Third-party imports\n",
    "import napari\n",
    "import numpy as np\n",
    "# Local imports\n",
    "import helpers\n",
    "\n",
    "# Open napari window\n",
    "viewer = napari.Viewer()"
   ]
  },
  {
   "cell_type": "markdown",
   "metadata": {},
   "source": [
    "Note: You may need to put an \"r\" before the image directory path if the string contains backslashes. Don't forget commas between parameters!"
   ]
  },
  {
   "cell_type": "code",
   "execution_count": 2,
   "metadata": {},
   "outputs": [
    {
     "name": "stdout",
     "output_type": "stream",
     "text": [
      "Loading 35 images...\n",
      "Images loaded:\n",
      "['0: 1500', '1: 1502', '2: 1504', '3: 1506', '4: 1508', '5: 1510', '6: 1512', '7: 1514', '8: 1516', '9: 1518', '10: 1520', '11: 1522', '12: 1524', '13: 1526', '14: 1528', '15: 1530', '16: 1532', '17: 1534', '18: 1536', '19: 1538', '20: 1540', '21: 1542', '22: 1544', '23: 1546', '24: 1548', '25: 1550', '26: 1552', '27: 1554', '28: 1556', '29: 1558', '30: 1560', '31: 1562', '32: 1564', '33: 1566', '34: 1568']\n"
     ]
    },
    {
     "data": {
      "text/plain": [
       "<Image layer 'imgs' at 0x27ba81b81f0>"
      ]
     },
     "execution_count": 2,
     "metadata": {},
     "output_type": "execute_result"
    }
   ],
   "source": [
    "img_dir = r'X:\\Radiography Drive\\2012-10_APS\\AmyClarke_October_2012\\Al82Cu18_200_20'\n",
    "imgs = helpers.get_imgs(\n",
    "    img_dir, \n",
    "    img_start=1500,\n",
    "    img_stop=1570,\n",
    "    img_step=2,\n",
    "    # n_imgs=20,\n",
    "    print_nums=True\n",
    ")\n",
    "viewer.add_image(imgs)"
   ]
  },
  {
   "cell_type": "code",
   "execution_count": 3,
   "metadata": {},
   "outputs": [
    {
     "name": "stdout",
     "output_type": "stream",
     "text": [
      "Saving animation...\n",
      "Animation saved: test-animations\\Al82Cu18_200_20_1500-1570-2_eq_5fps.gif\n"
     ]
    }
   ],
   "source": [
    "helpers.save_as_gif(\n",
    "    r'test-animations/Al82Cu18_200_20_1500-1570-2_eq_5fps.gif',\n",
    "    imgs,\n",
    "    equalize_hist=True,\n",
    "    fps=5\n",
    ")"
   ]
  }
 ],
 "metadata": {
  "interpreter": {
   "hash": "2f9fcb20087b7af2829bf0abbacbe7806b917b04bec25a5e9393fe507dcd2d8e"
  },
  "kernelspec": {
   "display_name": "Python 3.9.5 64-bit (system)",
   "language": "python",
   "name": "python3"
  },
  "language_info": {
   "codemirror_mode": {
    "name": "ipython",
    "version": 3
   },
   "file_extension": ".py",
   "mimetype": "text/x-python",
   "name": "python",
   "nbconvert_exporter": "python",
   "pygments_lexer": "ipython3",
   "version": "3.9.5"
  },
  "orig_nbformat": 4
 },
 "nbformat": 4,
 "nbformat_minor": 2
}
